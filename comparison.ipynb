{
 "cells": [
  {
   "cell_type": "markdown",
   "metadata": {},
   "source": [
    "# Compare regression results"
   ]
  },
  {
   "cell_type": "markdown",
   "metadata": {},
   "source": [
    "Here we compare several regression models to check if the phenomenon is solid.\n",
    "\n",
    "- Negative Binomial Generalized Linear Model(NBGLM)\n",
    "- linear regression model on C (LM)\n",
    "- linear regression model on the log of C+1 (LM_log)\n",
    "- generalized linear model with a continuous lognormal distribution for the error terms on C+1 (GLM_log)\n"
   ]
  },
  {
   "cell_type": "code",
   "execution_count": 2,
   "metadata": {
    "code_folding": [
     0
    ]
   },
   "outputs": [],
   "source": [
    "# import packages\n",
    "import matplotlib.pyplot as plt\n",
    "import pandas as pd\n",
    "import numpy as np\n",
    "import re\n",
    "%matplotlib inline"
   ]
  },
  {
   "cell_type": "code",
   "execution_count": 31,
   "metadata": {},
   "outputs": [],
   "source": [
    "# folders\n",
    "project = 'MultipleAffiliations'\n",
    "data_dir = f'D:/Data/{project}/data/'\n",
    "result_dir = f'D:/Data/{project}/result/'\n",
    "regression_nbglm_dir = f\"{result_dir}/NBGLM/\"\n",
    "regression_glmlog_dir = f\"{result_dir}/GLM_log/\"\n",
    "regression_lmlog_dir = f\"{result_dir}/LM_log/\"\n",
    "regression_lm_dir = f\"{result_dir}/LM/\""
   ]
  },
  {
   "cell_type": "markdown",
   "metadata": {},
   "source": [
    "## Across disciplines"
   ]
  },
  {
   "cell_type": "code",
   "execution_count": 32,
   "metadata": {},
   "outputs": [
    {
     "data": {
      "text/html": [
       "<div>\n",
       "<style scoped>\n",
       "    .dataframe tbody tr th:only-of-type {\n",
       "        vertical-align: middle;\n",
       "    }\n",
       "\n",
       "    .dataframe tbody tr th {\n",
       "        vertical-align: top;\n",
       "    }\n",
       "\n",
       "    .dataframe thead th {\n",
       "        text-align: right;\n",
       "    }\n",
       "</style>\n",
       "<table border=\"1\" class=\"dataframe\">\n",
       "  <thead>\n",
       "    <tr style=\"text-align: right;\">\n",
       "      <th></th>\n",
       "      <th>Subject</th>\n",
       "      <th>Intercept</th>\n",
       "      <th>NM_mark</th>\n",
       "      <th>IM_mark</th>\n",
       "      <th>N_refs</th>\n",
       "      <th>N_ins</th>\n",
       "      <th>N_c</th>\n",
       "      <th>N_a</th>\n",
       "      <th>R-Squared</th>\n",
       "      <th>AIC</th>\n",
       "      <th>BIC</th>\n",
       "    </tr>\n",
       "  </thead>\n",
       "  <tbody>\n",
       "    <tr>\n",
       "      <th>0</th>\n",
       "      <td>SPA</td>\n",
       "      <td>1.233***</td>\n",
       "      <td>-2.8</td>\n",
       "      <td>4.6**</td>\n",
       "      <td>1.3***</td>\n",
       "      <td>2.8***</td>\n",
       "      <td>2.7**</td>\n",
       "      <td>1.2**</td>\n",
       "      <td>0.15</td>\n",
       "      <td>160368.599478</td>\n",
       "      <td>-235810.907172</td>\n",
       "    </tr>\n",
       "    <tr>\n",
       "      <th>1</th>\n",
       "      <td>NEU</td>\n",
       "      <td>0.864***</td>\n",
       "      <td>5.9***</td>\n",
       "      <td>2.8*</td>\n",
       "      <td>1.1***</td>\n",
       "      <td>-0.6</td>\n",
       "      <td>13.2***</td>\n",
       "      <td>5.2***</td>\n",
       "      <td>0.13</td>\n",
       "      <td>457917.133530</td>\n",
       "      <td>-805136.814921</td>\n",
       "    </tr>\n",
       "  </tbody>\n",
       "</table>\n",
       "</div>"
      ],
      "text/plain": [
       "  Subject Intercept NM_mark IM_mark  N_refs   N_ins      N_c     N_a  \\\n",
       "0     SPA  1.233***    -2.8   4.6**  1.3***  2.8***    2.7**   1.2**   \n",
       "1     NEU  0.864***  5.9***    2.8*  1.1***    -0.6  13.2***  5.2***   \n",
       "\n",
       "   R-Squared            AIC            BIC  \n",
       "0       0.15  160368.599478 -235810.907172  \n",
       "1       0.13  457917.133530 -805136.814921  "
      ]
     },
     "execution_count": 32,
     "metadata": {},
     "output_type": "execute_result"
    }
   ],
   "source": [
    "df_nbglm = pd.read_excel(f\"{regression_nbglm_dir}/DIS.xlsx\")\n",
    "df_nbglm.head(2)"
   ]
  },
  {
   "cell_type": "code",
   "execution_count": 33,
   "metadata": {},
   "outputs": [
    {
     "data": {
      "text/html": [
       "<div>\n",
       "<style scoped>\n",
       "    .dataframe tbody tr th:only-of-type {\n",
       "        vertical-align: middle;\n",
       "    }\n",
       "\n",
       "    .dataframe tbody tr th {\n",
       "        vertical-align: top;\n",
       "    }\n",
       "\n",
       "    .dataframe thead th {\n",
       "        text-align: right;\n",
       "    }\n",
       "</style>\n",
       "<table border=\"1\" class=\"dataframe\">\n",
       "  <thead>\n",
       "    <tr style=\"text-align: right;\">\n",
       "      <th></th>\n",
       "      <th>Subject</th>\n",
       "      <th>Intercept</th>\n",
       "      <th>NM_mark</th>\n",
       "      <th>IM_mark</th>\n",
       "      <th>N_refs</th>\n",
       "      <th>N_ins</th>\n",
       "      <th>N_c</th>\n",
       "      <th>N_a</th>\n",
       "      <th>R-Squared</th>\n",
       "      <th>AIC</th>\n",
       "      <th>BIC</th>\n",
       "    </tr>\n",
       "  </thead>\n",
       "  <tbody>\n",
       "    <tr>\n",
       "      <th>0</th>\n",
       "      <td>SPA</td>\n",
       "      <td>1.06***</td>\n",
       "      <td>-0.02</td>\n",
       "      <td>0.04**</td>\n",
       "      <td>0.01***</td>\n",
       "      <td>0.03***</td>\n",
       "      <td>0.04***</td>\n",
       "      <td>0.01***</td>\n",
       "      <td>0.17</td>\n",
       "      <td>65309.456183</td>\n",
       "      <td>65366.524185</td>\n",
       "    </tr>\n",
       "    <tr>\n",
       "      <th>1</th>\n",
       "      <td>NEU</td>\n",
       "      <td>0.81***</td>\n",
       "      <td>0.07***</td>\n",
       "      <td>0.04***</td>\n",
       "      <td>0.01***</td>\n",
       "      <td>-0.01***</td>\n",
       "      <td>0.11***</td>\n",
       "      <td>0.05***</td>\n",
       "      <td>0.14</td>\n",
       "      <td>195762.764419</td>\n",
       "      <td>195827.638157</td>\n",
       "    </tr>\n",
       "  </tbody>\n",
       "</table>\n",
       "</div>"
      ],
      "text/plain": [
       "  Subject Intercept  NM_mark  IM_mark   N_refs     N_ins      N_c      N_a  \\\n",
       "0     SPA   1.06***    -0.02   0.04**  0.01***   0.03***  0.04***  0.01***   \n",
       "1     NEU   0.81***  0.07***  0.04***  0.01***  -0.01***  0.11***  0.05***   \n",
       "\n",
       "   R-Squared            AIC            BIC  \n",
       "0       0.17   65309.456183   65366.524185  \n",
       "1       0.14  195762.764419  195827.638157  "
      ]
     },
     "execution_count": 33,
     "metadata": {},
     "output_type": "execute_result"
    }
   ],
   "source": [
    "df_lmlog = pd.read_excel(f\"{regression_lmlog_dir}/DIS.xlsx\")\n",
    "df_lmlog.head(2)"
   ]
  },
  {
   "cell_type": "code",
   "execution_count": 34,
   "metadata": {},
   "outputs": [
    {
     "data": {
      "text/html": [
       "<div>\n",
       "<style scoped>\n",
       "    .dataframe tbody tr th:only-of-type {\n",
       "        vertical-align: middle;\n",
       "    }\n",
       "\n",
       "    .dataframe tbody tr th {\n",
       "        vertical-align: top;\n",
       "    }\n",
       "\n",
       "    .dataframe thead th {\n",
       "        text-align: right;\n",
       "    }\n",
       "</style>\n",
       "<table border=\"1\" class=\"dataframe\">\n",
       "  <thead>\n",
       "    <tr style=\"text-align: right;\">\n",
       "      <th></th>\n",
       "      <th>Subject</th>\n",
       "      <th>Intercept</th>\n",
       "      <th>NM_mark</th>\n",
       "      <th>IM_mark</th>\n",
       "      <th>N_refs</th>\n",
       "      <th>N_ins</th>\n",
       "      <th>N_c</th>\n",
       "      <th>N_a</th>\n",
       "      <th>R-Squared</th>\n",
       "      <th>AIC</th>\n",
       "      <th>BIC</th>\n",
       "    </tr>\n",
       "  </thead>\n",
       "  <tbody>\n",
       "    <tr>\n",
       "      <th>0</th>\n",
       "      <td>SPA</td>\n",
       "      <td>1.02***</td>\n",
       "      <td>-0.37*</td>\n",
       "      <td>0.25</td>\n",
       "      <td>0.14***</td>\n",
       "      <td>0.26***</td>\n",
       "      <td>0.02</td>\n",
       "      <td>0.08</td>\n",
       "      <td>0.15</td>\n",
       "      <td>194938.572669</td>\n",
       "      <td>194995.640671</td>\n",
       "    </tr>\n",
       "    <tr>\n",
       "      <th>1</th>\n",
       "      <td>NEU</td>\n",
       "      <td>0.07</td>\n",
       "      <td>0.24***</td>\n",
       "      <td>-0.13</td>\n",
       "      <td>0.09***</td>\n",
       "      <td>0.01</td>\n",
       "      <td>0.99***</td>\n",
       "      <td>0.23***</td>\n",
       "      <td>0.11</td>\n",
       "      <td>566126.764207</td>\n",
       "      <td>566191.637946</td>\n",
       "    </tr>\n",
       "  </tbody>\n",
       "</table>\n",
       "</div>"
      ],
      "text/plain": [
       "  Subject Intercept  NM_mark IM_mark   N_refs    N_ins      N_c      N_a  \\\n",
       "0     SPA   1.02***   -0.37*    0.25  0.14***  0.26***     0.02     0.08   \n",
       "1     NEU      0.07  0.24***   -0.13  0.09***     0.01  0.99***  0.23***   \n",
       "\n",
       "   R-Squared            AIC            BIC  \n",
       "0       0.15  194938.572669  194995.640671  \n",
       "1       0.11  566126.764207  566191.637946  "
      ]
     },
     "execution_count": 34,
     "metadata": {},
     "output_type": "execute_result"
    }
   ],
   "source": [
    "df_lm = pd.read_excel(f\"{regression_lm_dir}/DIS.xlsx\")\n",
    "df_lm.head(2)"
   ]
  },
  {
   "cell_type": "code",
   "execution_count": 35,
   "metadata": {},
   "outputs": [
    {
     "data": {
      "text/html": [
       "<div>\n",
       "<style scoped>\n",
       "    .dataframe tbody tr th:only-of-type {\n",
       "        vertical-align: middle;\n",
       "    }\n",
       "\n",
       "    .dataframe tbody tr th {\n",
       "        vertical-align: top;\n",
       "    }\n",
       "\n",
       "    .dataframe thead th {\n",
       "        text-align: right;\n",
       "    }\n",
       "</style>\n",
       "<table border=\"1\" class=\"dataframe\">\n",
       "  <thead>\n",
       "    <tr style=\"text-align: right;\">\n",
       "      <th></th>\n",
       "      <th>Subject</th>\n",
       "      <th>Intercept</th>\n",
       "      <th>NM_mark</th>\n",
       "      <th>IM_mark</th>\n",
       "      <th>N_refs</th>\n",
       "      <th>N_ins</th>\n",
       "      <th>N_c</th>\n",
       "      <th>N_a</th>\n",
       "      <th>R-Squared</th>\n",
       "      <th>AIC</th>\n",
       "      <th>BIC</th>\n",
       "    </tr>\n",
       "  </thead>\n",
       "  <tbody>\n",
       "    <tr>\n",
       "      <th>0</th>\n",
       "      <td>SPA</td>\n",
       "      <td>2.024***</td>\n",
       "      <td>-11.0***</td>\n",
       "      <td>4.2*</td>\n",
       "      <td>0.4***</td>\n",
       "      <td>4.3***</td>\n",
       "      <td>-6.0***</td>\n",
       "      <td>2.0***</td>\n",
       "      <td>0.08</td>\n",
       "      <td>197027.322125</td>\n",
       "      <td>2.987198e+06</td>\n",
       "    </tr>\n",
       "    <tr>\n",
       "      <th>1</th>\n",
       "      <td>NEU</td>\n",
       "      <td>1.601***</td>\n",
       "      <td>5.7***</td>\n",
       "      <td>2.8*</td>\n",
       "      <td>0.4***</td>\n",
       "      <td>-0.5</td>\n",
       "      <td>13.4***</td>\n",
       "      <td>1.3***</td>\n",
       "      <td>0.07</td>\n",
       "      <td>569330.339264</td>\n",
       "      <td>5.736446e+06</td>\n",
       "    </tr>\n",
       "  </tbody>\n",
       "</table>\n",
       "</div>"
      ],
      "text/plain": [
       "  Subject Intercept   NM_mark IM_mark  N_refs   N_ins      N_c     N_a  \\\n",
       "0     SPA  2.024***  -11.0***    4.2*  0.4***  4.3***  -6.0***  2.0***   \n",
       "1     NEU  1.601***    5.7***    2.8*  0.4***    -0.5  13.4***  1.3***   \n",
       "\n",
       "   R-Squared            AIC           BIC  \n",
       "0       0.08  197027.322125  2.987198e+06  \n",
       "1       0.07  569330.339264  5.736446e+06  "
      ]
     },
     "execution_count": 35,
     "metadata": {},
     "output_type": "execute_result"
    }
   ],
   "source": [
    "df_glmlog = pd.read_excel(f\"{regression_glmlog_dir}/DIS.xlsx\")\n",
    "df_glmlog.head(2)"
   ]
  },
  {
   "cell_type": "code",
   "execution_count": 36,
   "metadata": {
    "code_folding": []
   },
   "outputs": [],
   "source": [
    "## remove star\n",
    "\n",
    "def remove_star(x):\n",
    "    try:\n",
    "        x = re.sub('\\*','',x)\n",
    "        return float(x)\n",
    "    except:\n",
    "        return 0\n",
    "\n",
    "for df in [df_nbglm,df_lmlog]:\n",
    "    for var in [ 'Intercept', 'NM_mark', 'IM_mark', 'N_refs', 'N_ins', 'N_c','N_a']:\n",
    "        df[var] = df[var].apply(lambda x:remove_star(x))"
   ]
  },
  {
   "cell_type": "code",
   "execution_count": 37,
   "metadata": {},
   "outputs": [
    {
     "data": {
      "text/html": [
       "<div>\n",
       "<style scoped>\n",
       "    .dataframe tbody tr th:only-of-type {\n",
       "        vertical-align: middle;\n",
       "    }\n",
       "\n",
       "    .dataframe tbody tr th {\n",
       "        vertical-align: top;\n",
       "    }\n",
       "\n",
       "    .dataframe thead th {\n",
       "        text-align: right;\n",
       "    }\n",
       "</style>\n",
       "<table border=\"1\" class=\"dataframe\">\n",
       "  <thead>\n",
       "    <tr style=\"text-align: right;\">\n",
       "      <th></th>\n",
       "      <th>Subject</th>\n",
       "      <th>Intercept</th>\n",
       "      <th>NM_mark</th>\n",
       "      <th>IM_mark</th>\n",
       "      <th>N_refs</th>\n",
       "      <th>N_ins</th>\n",
       "      <th>N_c</th>\n",
       "      <th>N_a</th>\n",
       "      <th>R-Squared</th>\n",
       "      <th>AIC</th>\n",
       "      <th>BIC</th>\n",
       "    </tr>\n",
       "  </thead>\n",
       "  <tbody>\n",
       "    <tr>\n",
       "      <th>0</th>\n",
       "      <td>SPA</td>\n",
       "      <td>1.06</td>\n",
       "      <td>-0.02</td>\n",
       "      <td>0.04</td>\n",
       "      <td>0.01</td>\n",
       "      <td>0.03</td>\n",
       "      <td>0.04</td>\n",
       "      <td>0.01</td>\n",
       "      <td>0.17</td>\n",
       "      <td>65309.456183</td>\n",
       "      <td>65366.524185</td>\n",
       "    </tr>\n",
       "    <tr>\n",
       "      <th>1</th>\n",
       "      <td>NEU</td>\n",
       "      <td>0.81</td>\n",
       "      <td>0.07</td>\n",
       "      <td>0.04</td>\n",
       "      <td>0.01</td>\n",
       "      <td>-0.01</td>\n",
       "      <td>0.11</td>\n",
       "      <td>0.05</td>\n",
       "      <td>0.14</td>\n",
       "      <td>195762.764419</td>\n",
       "      <td>195827.638157</td>\n",
       "    </tr>\n",
       "  </tbody>\n",
       "</table>\n",
       "</div>"
      ],
      "text/plain": [
       "  Subject  Intercept  NM_mark  IM_mark  N_refs  N_ins   N_c   N_a  R-Squared  \\\n",
       "0     SPA       1.06    -0.02     0.04    0.01   0.03  0.04  0.01       0.17   \n",
       "1     NEU       0.81     0.07     0.04    0.01  -0.01  0.11  0.05       0.14   \n",
       "\n",
       "             AIC            BIC  \n",
       "0   65309.456183   65366.524185  \n",
       "1  195762.764419  195827.638157  "
      ]
     },
     "execution_count": 37,
     "metadata": {},
     "output_type": "execute_result"
    }
   ],
   "source": [
    "df_lmlog.head(2)"
   ]
  },
  {
   "cell_type": "code",
   "execution_count": 38,
   "metadata": {},
   "outputs": [],
   "source": [
    "df_com = pd.merge(df_nbglm,df_lmlog,on='Subject')"
   ]
  },
  {
   "cell_type": "code",
   "execution_count": 39,
   "metadata": {},
   "outputs": [
    {
     "data": {
      "text/html": [
       "<div>\n",
       "<style scoped>\n",
       "    .dataframe tbody tr th:only-of-type {\n",
       "        vertical-align: middle;\n",
       "    }\n",
       "\n",
       "    .dataframe tbody tr th {\n",
       "        vertical-align: top;\n",
       "    }\n",
       "\n",
       "    .dataframe thead th {\n",
       "        text-align: right;\n",
       "    }\n",
       "</style>\n",
       "<table border=\"1\" class=\"dataframe\">\n",
       "  <thead>\n",
       "    <tr style=\"text-align: right;\">\n",
       "      <th></th>\n",
       "      <th>Subject</th>\n",
       "      <th>Intercept_x</th>\n",
       "      <th>NM_mark_x</th>\n",
       "      <th>IM_mark_x</th>\n",
       "      <th>N_refs_x</th>\n",
       "      <th>N_ins_x</th>\n",
       "      <th>N_c_x</th>\n",
       "      <th>N_a_x</th>\n",
       "      <th>R-Squared_x</th>\n",
       "      <th>AIC_x</th>\n",
       "      <th>...</th>\n",
       "      <th>Intercept_y</th>\n",
       "      <th>NM_mark_y</th>\n",
       "      <th>IM_mark_y</th>\n",
       "      <th>N_refs_y</th>\n",
       "      <th>N_ins_y</th>\n",
       "      <th>N_c_y</th>\n",
       "      <th>N_a_y</th>\n",
       "      <th>R-Squared_y</th>\n",
       "      <th>AIC_y</th>\n",
       "      <th>BIC_y</th>\n",
       "    </tr>\n",
       "  </thead>\n",
       "  <tbody>\n",
       "    <tr>\n",
       "      <th>0</th>\n",
       "      <td>SPA</td>\n",
       "      <td>1.233</td>\n",
       "      <td>-2.8</td>\n",
       "      <td>4.6</td>\n",
       "      <td>1.3</td>\n",
       "      <td>2.8</td>\n",
       "      <td>2.7</td>\n",
       "      <td>1.2</td>\n",
       "      <td>0.15</td>\n",
       "      <td>160368.599478</td>\n",
       "      <td>...</td>\n",
       "      <td>1.06</td>\n",
       "      <td>-0.02</td>\n",
       "      <td>0.04</td>\n",
       "      <td>0.01</td>\n",
       "      <td>0.03</td>\n",
       "      <td>0.04</td>\n",
       "      <td>0.01</td>\n",
       "      <td>0.17</td>\n",
       "      <td>65309.456183</td>\n",
       "      <td>65366.524185</td>\n",
       "    </tr>\n",
       "    <tr>\n",
       "      <th>1</th>\n",
       "      <td>NEU</td>\n",
       "      <td>0.864</td>\n",
       "      <td>5.9</td>\n",
       "      <td>2.8</td>\n",
       "      <td>1.1</td>\n",
       "      <td>-0.6</td>\n",
       "      <td>13.2</td>\n",
       "      <td>5.2</td>\n",
       "      <td>0.13</td>\n",
       "      <td>457917.133530</td>\n",
       "      <td>...</td>\n",
       "      <td>0.81</td>\n",
       "      <td>0.07</td>\n",
       "      <td>0.04</td>\n",
       "      <td>0.01</td>\n",
       "      <td>-0.01</td>\n",
       "      <td>0.11</td>\n",
       "      <td>0.05</td>\n",
       "      <td>0.14</td>\n",
       "      <td>195762.764419</td>\n",
       "      <td>195827.638157</td>\n",
       "    </tr>\n",
       "  </tbody>\n",
       "</table>\n",
       "<p>2 rows × 21 columns</p>\n",
       "</div>"
      ],
      "text/plain": [
       "  Subject  Intercept_x  NM_mark_x  IM_mark_x  N_refs_x  N_ins_x  N_c_x  N_a_x  \\\n",
       "0     SPA        1.233       -2.8        4.6       1.3      2.8    2.7    1.2   \n",
       "1     NEU        0.864        5.9        2.8       1.1     -0.6   13.2    5.2   \n",
       "\n",
       "   R-Squared_x          AIC_x      ...        Intercept_y  NM_mark_y  \\\n",
       "0         0.15  160368.599478      ...               1.06      -0.02   \n",
       "1         0.13  457917.133530      ...               0.81       0.07   \n",
       "\n",
       "   IM_mark_y  N_refs_y  N_ins_y  N_c_y  N_a_y  R-Squared_y          AIC_y  \\\n",
       "0       0.04      0.01     0.03   0.04   0.01         0.17   65309.456183   \n",
       "1       0.04      0.01    -0.01   0.11   0.05         0.14  195762.764419   \n",
       "\n",
       "           BIC_y  \n",
       "0   65366.524185  \n",
       "1  195827.638157  \n",
       "\n",
       "[2 rows x 21 columns]"
      ]
     },
     "execution_count": 39,
     "metadata": {},
     "output_type": "execute_result"
    }
   ],
   "source": [
    "df_com.head(2)"
   ]
  },
  {
   "cell_type": "code",
   "execution_count": 40,
   "metadata": {},
   "outputs": [
    {
     "data": {
      "image/png": "[encoded data removed]",
      "text/plain": [
       "<Figure size 450x400 with 1 Axes>"
      ]
     },
     "metadata": {
      "needs_background": "light"
     },
     "output_type": "display_data"
    }
   ],
   "source": [
    "# figure: correlation for NM_mark\n",
    "\n",
    "fig = plt.figure(figsize=(4.5,4),dpi=100)\n",
    "ax = plt.subplot(111)\n",
    "var = 'NM_mark'\n",
    "ax.scatter(df_com[f\"{var}_x\"],df_com[f\"{var}_y\"],label=var)\n",
    "\n",
    "var = 'IM_mark'\n",
    "ax.scatter(df_com[f\"{var}_x\"],df_com[f\"{var}_y\"],label=var)\n",
    "\n",
    "\n",
    "ax.set_xlabel('NBGLM')\n",
    "ax.set_ylabel('LM_log')\n",
    "ax.legend()\n",
    "\n",
    "plt.tight_layout()"
   ]
  },
  {
   "cell_type": "code",
   "execution_count": 41,
   "metadata": {},
   "outputs": [
    {
     "name": "stdout",
     "output_type": "stream",
     "text": [
      "Intercept:0.98\n",
      "NM_mark:0.92\n",
      "IM_mark:0.84\n",
      "N_refs:0.85\n",
      "N_ins:0.98\n",
      "N_c:0.62\n",
      "N_a:0.91\n"
     ]
    }
   ],
   "source": [
    "# correlation across all the factors\n",
    "for var in [ 'Intercept', 'NM_mark', 'IM_mark', 'N_refs', 'N_ins', 'N_c','N_a']:\n",
    "    cor = np.corrcoef(df_com[f\"{var}_x\"],df_com[f\"{var}_y\"])[0,1]\n",
    "    print(f\"{var}:{cor:.2f}\")"
   ]
  },
  {
   "cell_type": "markdown",
   "metadata": {},
   "source": [
    "### AIC, BIC and $R^2$"
   ]
  },
  {
   "cell_type": "code",
   "execution_count": 48,
   "metadata": {},
   "outputs": [
    {
     "data": {
      "image/png": "[encoded data removed]",
      "text/plain": [
       "<Figure size 1200x400 with 3 Axes>"
      ]
     },
     "metadata": {
      "needs_background": "light"
     },
     "output_type": "display_data"
    }
   ],
   "source": [
    "fig = plt.figure(figsize=(12,4),dpi=100)\n",
    "ax = plt.subplot(131)\n",
    "ax.scatter(df_nbglm['AIC'],df_glmlog['AIC'],label='glm_log')\n",
    "ax.scatter(df_nbglm['AIC'],df_lm['AIC'],label='lm')\n",
    "ax.scatter(df_nbglm['AIC'],df_lmlog['AIC'],label='lm_log')\n",
    "ax.plot([0,5e6],[0,5e6],'--')\n",
    "ax.set_title('AIC')\n",
    "ax.set_xlabel('nbglm')\n",
    "ax.set_ylabel('alternatives')\n",
    "ax.legend()\n",
    "\n",
    "ax = plt.subplot(132)\n",
    "ax.scatter(-df_nbglm['BIC'],df_glmlog['BIC'],label='glm_log')\n",
    "ax.scatter(-df_nbglm['BIC'],df_lm['BIC'],label='lm')\n",
    "ax.scatter(-df_nbglm['BIC'],df_lmlog['BIC'],label='lm_log')\n",
    "ax.plot([0,5e6],[0,5e6],'--')\n",
    "ax.set_title('BIC')\n",
    "ax.set_xlabel('nbglm')\n",
    "ax.set_ylabel('alternatives')\n",
    "ax.legend()\n",
    "\n",
    "ax = plt.subplot(133)\n",
    "ax.scatter(df_nbglm['R-Squared'],df_glmlog['R-Squared'],label='glm_log')\n",
    "ax.scatter(df_nbglm['R-Squared'],df_lm['R-Squared'],label='lm')\n",
    "ax.scatter(df_nbglm['R-Squared'],df_lmlog['R-Squared'],label='lm_log')\n",
    "ax.plot([0,0.25],[0,0.25],'--')\n",
    "ax.set_title('R-Squared')\n",
    "ax.set_xlabel('nbglm')\n",
    "ax.set_ylabel('alternatives')\n",
    "ax.legend()\n",
    "\n",
    "plt.tight_layout()"
   ]
  },
  {
   "cell_type": "markdown",
   "metadata": {},
   "source": [
    "Based on AIC and BIC, nbglm and lg_log perform better than glm_log and lm."
   ]
  },
  {
   "cell_type": "markdown",
   "metadata": {},
   "source": [
    "For the effects of IM and NM, the results obtained from nbglm and lm_log are quite similar."
   ]
  },
  {
   "cell_type": "markdown",
   "metadata": {},
   "source": [
    "## across country and discipline"
   ]
  },
  {
   "cell_type": "code",
   "execution_count": 63,
   "metadata": {},
   "outputs": [
    {
     "name": "stdout",
     "output_type": "stream",
     "text": [
      "DomesticNM_mark:0.78\n",
      "DomesticIM_mark:0.88\n",
      "ForeignNM_mark:0.84\n",
      "ForeignIM_mark:0.46\n",
      "N_refs:0.85\n",
      "N_ins:0.87\n",
      "N_c:0.84\n",
      "N_a:0.87\n"
     ]
    }
   ],
   "source": [
    "for var in ['DomesticNM_mark', 'DomesticIM_mark', 'ForeignNM_mark', 'ForeignIM_mark',\n",
    "       'N_refs', 'N_ins', 'N_c', 'N_a']:\n",
    "    df_nbglm = pd.read_excel(f\"{regression_nbglm_dir}/IC/IC_{var}.xlsx\")\n",
    "    df_lmlog = pd.read_excel(f\"{regression_lmlog_dir}/IC/IC_{var}.xlsx\")\n",
    "    df_nbglm.set_index('Subject',inplace=True)\n",
    "    df_nbglm = df_nbglm.unstack().reset_index()\n",
    "    df_nbglm.columns = ['country','subject',var]\n",
    "    df_nbglm[var] = df_nbglm[var].apply(lambda x:remove_star(x))\n",
    "    \n",
    "    df_lmlog.set_index('Subject',inplace=True)\n",
    "    df_lmlog = df_lmlog.unstack().reset_index()\n",
    "    df_lmlog.columns = ['country','subject',var]\n",
    "    df_lmlog[var] = df_lmlog[var].apply(lambda x:remove_star(x))\n",
    "    #df_nbglm.unstack()\n",
    "    #df_lmlog.unstack()\n",
    "    df_com = pd.merge(df_nbglm,df_lmlog,on=['country','subject'])\n",
    "    cor = np.corrcoef(df_com[f\"{var}_x\"],df_com[f\"{var}_y\"])[0,1]\n",
    "    print(f\"{var}:{cor:.2f}\")"
   ]
  }
 ],
 "metadata": {
  "kernelspec": {
   "display_name": "Python 3",
   "language": "python",
   "name": "python3"
  },
  "language_info": {
   "codemirror_mode": {
    "name": "ipython",
    "version": 3
   },
   "file_extension": ".py",
   "mimetype": "text/x-python",
   "name": "python",
   "nbconvert_exporter": "python",
   "pygments_lexer": "ipython3",
   "version": "3.6.3"
  },
  "toc": {
   "base_numbering": 1,
   "nav_menu": {},
   "number_sections": true,
   "sideBar": true,
   "skip_h1_title": false,
   "title_cell": "Table of Contents",
   "title_sidebar": "Contents",
   "toc_cell": false,
   "toc_position": {},
   "toc_section_display": true,
   "toc_window_display": true
  }
 },
 "nbformat": 4,
 "nbformat_minor": 2
}
